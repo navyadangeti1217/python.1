{
  "nbformat": 4,
  "nbformat_minor": 0,
  "metadata": {
    "colab": {
      "provenance": [],
      "authorship_tag": "ABX9TyMjExjmpmprezFKEN6eSyGz",
      "include_colab_link": true
    },
    "kernelspec": {
      "name": "python3",
      "display_name": "Python 3"
    },
    "language_info": {
      "name": "python"
    }
  },
  "cells": [
    {
      "cell_type": "markdown",
      "metadata": {
        "id": "view-in-github",
        "colab_type": "text"
      },
      "source": [
        "<a href=\"https://colab.research.google.com/github/navyadangeti1217/python.1/blob/main/Copy_of_25_7_25.ipynb\" target=\"_parent\"><img src=\"https://colab.research.google.com/assets/colab-badge.svg\" alt=\"Open In Colab\"/></a>"
      ]
    },
    {
      "cell_type": "code",
      "execution_count": null,
      "metadata": {
        "colab": {
          "base_uri": "https://localhost:8080/"
        },
        "id": "UaC-GcqjxGlL",
        "outputId": "d64a90cb-806c-4fd1-dab4-f66348ce3db9"
      },
      "outputs": [
        {
          "output_type": "stream",
          "name": "stdout",
          "text": [
            "['navya', 'hasini', 'PUPPY', 23, 6, 'suva']\n"
          ]
        }
      ],
      "source": [
        "a=[\"navya\",\"hasini\",\"PUPPY\",23,6]\n",
        "a.append(\"suva\")\n",
        "print(a)\n"
      ]
    },
    {
      "cell_type": "code",
      "source": [
        "n=[1,8,6,4,3,\"navya\"]\n",
        "n.clear()\n",
        "print(n)"
      ],
      "metadata": {
        "colab": {
          "base_uri": "https://localhost:8080/"
        },
        "id": "BSStCYQxyZ1F",
        "outputId": "6287820b-09f4-4b14-fd8d-e0677abcaa07"
      },
      "execution_count": null,
      "outputs": [
        {
          "output_type": "stream",
          "name": "stdout",
          "text": [
            "[]\n"
          ]
        }
      ]
    },
    {
      "cell_type": "code",
      "source": [
        "i=[\"setti\",7,8,5]\n",
        "i.copy()\n",
        "print(i)"
      ],
      "metadata": {
        "colab": {
          "base_uri": "https://localhost:8080/"
        },
        "id": "GcuJ3eP2y0IG",
        "outputId": "48445279-64d5-4a31-804e-a03000d71049"
      },
      "execution_count": null,
      "outputs": [
        {
          "output_type": "stream",
          "name": "stdout",
          "text": [
            "['setti', 7, 8, 5]\n"
          ]
        }
      ]
    },
    {
      "cell_type": "code",
      "source": [
        "p=[\"uma\",\"priya\",\"33\"]\n",
        "p.pop()\n",
        "print(p)\n"
      ],
      "metadata": {
        "colab": {
          "base_uri": "https://localhost:8080/"
        },
        "id": "fDCFNqRizCJc",
        "outputId": "4e66193b-fd17-4c99-ceeb-35eef77aa18c"
      },
      "execution_count": null,
      "outputs": [
        {
          "output_type": "stream",
          "name": "stdout",
          "text": [
            "['uma', 'priya']\n"
          ]
        }
      ]
    },
    {
      "cell_type": "code",
      "source": [
        "name = [\"navya\", \"sweety\", 2, 9, 7, 8, 9, 3, 1]\n",
        "x = name.count(9)\n",
        "print(x)\n"
      ],
      "metadata": {
        "colab": {
          "base_uri": "https://localhost:8080/"
        },
        "id": "GbH1KvzF0p0r",
        "outputId": "624f43c9-54d4-4f41-eb59-c1b6211f98d0"
      },
      "execution_count": null,
      "outputs": [
        {
          "output_type": "stream",
          "name": "stdout",
          "text": [
            "2\n"
          ]
        }
      ]
    },
    {
      "cell_type": "code",
      "source": [
        "name=[\"navya\",\"geethika\"]\n",
        "\n",
        "surname=[\"dangeti\"]\n",
        "\n",
        "name.extend(surname)\n",
        "print(name)\n"
      ],
      "metadata": {
        "colab": {
          "base_uri": "https://localhost:8080/"
        },
        "id": "rXB_ymGc3BBs",
        "outputId": "b8cb947f-9651-44c0-dbcd-1bf1ede44e80"
      },
      "execution_count": null,
      "outputs": [
        {
          "output_type": "stream",
          "name": "stdout",
          "text": [
            "['navya', 'geethika', 'dangeti']\n"
          ]
        }
      ]
    },
    {
      "cell_type": "code",
      "source": [
        "i=[\"hello\",\"navya\",\"geethika\"]\n",
        "i.remove(\"navya\")\n",
        "print(i)"
      ],
      "metadata": {
        "colab": {
          "base_uri": "https://localhost:8080/"
        },
        "id": "WM_viQOjBETT",
        "outputId": "3480cef1-7a24-4973-cc35-f6e09cf9eb0a"
      },
      "execution_count": null,
      "outputs": [
        {
          "output_type": "stream",
          "name": "stdout",
          "text": [
            "['hello', 'geethika']\n"
          ]
        }
      ]
    },
    {
      "cell_type": "code",
      "source": [
        "l=[1,2,3,4,5,6,7,8,9,0]\n",
        "l.reverse()\n",
        "print(l)"
      ],
      "metadata": {
        "colab": {
          "base_uri": "https://localhost:8080/"
        },
        "id": "NrcLTsyCCIs8",
        "outputId": "e2ce5b14-3d94-4f98-9c83-bb31b013ea39"
      },
      "execution_count": null,
      "outputs": [
        {
          "output_type": "stream",
          "name": "stdout",
          "text": [
            "[0, 9, 8, 7, 6, 5, 4, 3, 2, 1]\n"
          ]
        }
      ]
    },
    {
      "cell_type": "code",
      "source": [
        "y=[\"puppy\",\"navya\",\"lavanya\"]\n",
        "y.sort()\n",
        "print(y)"
      ],
      "metadata": {
        "colab": {
          "base_uri": "https://localhost:8080/"
        },
        "id": "9wY77qHdChgh",
        "outputId": "6bb62c5c-58a5-4e9d-eee8-4a7e23d87254"
      },
      "execution_count": null,
      "outputs": [
        {
          "output_type": "stream",
          "name": "stdout",
          "text": [
            "['lavanya', 'navya', 'puppy']\n"
          ]
        }
      ]
    },
    {
      "cell_type": "code",
      "source": [
        "fruits = ['apple', 'banana', 'cherry']\n",
        "\n",
        "fruits.insert(1, \"orange\")\n",
        "\n",
        "print(fruits)"
      ],
      "metadata": {
        "colab": {
          "base_uri": "https://localhost:8080/"
        },
        "id": "IsVwSbOjDZK8",
        "outputId": "c97fb082-2b92-426a-f50e-ce2fc6fa9016"
      },
      "execution_count": null,
      "outputs": [
        {
          "output_type": "stream",
          "name": "stdout",
          "text": [
            "['apple', 'orange', 'banana', 'cherry']\n"
          ]
        }
      ]
    },
    {
      "cell_type": "code",
      "source": [
        "d={7,6,5,9}\n",
        "print(d)\n",
        "print(type(d))"
      ],
      "metadata": {
        "id": "da_VjsgGEkaO",
        "colab": {
          "base_uri": "https://localhost:8080/"
        },
        "outputId": "c5b414cb-c275-4ba3-a2eb-e9bf6c1d0bb2"
      },
      "execution_count": null,
      "outputs": [
        {
          "output_type": "stream",
          "name": "stdout",
          "text": [
            "{9, 5, 6, 7}\n",
            "<class 'set'>\n"
          ]
        }
      ]
    },
    {
      "cell_type": "code",
      "source": [
        "l=(1,2,3,4,7)\n",
        "print(l)\n",
        "print(type(l))"
      ],
      "metadata": {
        "colab": {
          "base_uri": "https://localhost:8080/"
        },
        "id": "zh-Vhh_gJGG1",
        "outputId": "27f856e5-ec6f-4612-bbfc-f7864550625a"
      },
      "execution_count": null,
      "outputs": [
        {
          "output_type": "stream",
          "name": "stdout",
          "text": [
            "(1, 2, 3, 4, 7)\n",
            "<class 'tuple'>\n"
          ]
        }
      ]
    },
    {
      "cell_type": "code",
      "source": [
        "c={\"orange\":6,\"word\":8}\n",
        "print(c.keys())\n",
        "print(c.items())\n",
        "print(c.values())\n",
        "print(c)\n",
        "print(type(c))\n",
        "print(c.pop(\"orange\"))\n",
        "print(c.update({\"course\":5}))"
      ],
      "metadata": {
        "colab": {
          "base_uri": "https://localhost:8080/"
        },
        "id": "KhQbuI3ECwn6",
        "outputId": "e88555ed-c843-4eae-d20e-de0197ec406e"
      },
      "execution_count": null,
      "outputs": [
        {
          "output_type": "stream",
          "name": "stdout",
          "text": [
            "dict_keys(['orange', 'word'])\n",
            "dict_items([('orange', 6), ('word', 8)])\n",
            "dict_values([6, 8])\n",
            "{'orange': 6, 'word': 8}\n",
            "<class 'dict'>\n",
            "6\n",
            "None\n"
          ]
        }
      ]
    }
  ]
}