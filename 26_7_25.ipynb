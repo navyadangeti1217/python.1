{
  "nbformat": 4,
  "nbformat_minor": 0,
  "metadata": {
    "colab": {
      "provenance": [],
      "authorship_tag": "ABX9TyOjMQ4RJikcclFu+Kr3PePV",
      "include_colab_link": true
    },
    "kernelspec": {
      "name": "python3",
      "display_name": "Python 3"
    },
    "language_info": {
      "name": "python"
    }
  },
  "cells": [
    {
      "cell_type": "markdown",
      "metadata": {
        "id": "view-in-github",
        "colab_type": "text"
      },
      "source": [
        "<a href=\"https://colab.research.google.com/github/navyadangeti1217/python.1/blob/main/26_7_25.ipynb\" target=\"_parent\"><img src=\"https://colab.research.google.com/assets/colab-badge.svg\" alt=\"Open In Colab\"/></a>"
      ]
    },
    {
      "cell_type": "code",
      "execution_count": null,
      "metadata": {
        "colab": {
          "base_uri": "https://localhost:8080/"
        },
        "id": "lwY00oeV5DNr",
        "outputId": "6f7eb888-6de4-47e8-ee88-6e9a3cd30dc5"
      },
      "outputs": [
        {
          "output_type": "stream",
          "name": "stdout",
          "text": [
            "Hi i am navya\n"
          ]
        }
      ],
      "source": [
        "a=(\"hi i am navya\")\n",
        "x=a.capitalize()\n",
        "print(x)"
      ]
    },
    {
      "cell_type": "code",
      "source": [
        "intro=(\"hlo Every One\")\n",
        "y=intro.capitalize()\n",
        "print(y)"
      ],
      "metadata": {
        "colab": {
          "base_uri": "https://localhost:8080/"
        },
        "id": "4aRr22C65zyu",
        "outputId": "d38575c1-e4fc-4210-bec0-6be48f62644b"
      },
      "execution_count": null,
      "outputs": [
        {
          "output_type": "stream",
          "name": "stdout",
          "text": [
            "Hlo every one\n"
          ]
        }
      ]
    },
    {
      "cell_type": "code",
      "source": [
        "txt=(\"this Is NavYa\")\n",
        "p=txt.capitalize()\n",
        "print(p)\n",
        "\n"
      ],
      "metadata": {
        "colab": {
          "base_uri": "https://localhost:8080/"
        },
        "id": "G8O2PuWL6MjO",
        "outputId": "c430a99c-7141-4e57-8339-e8047827a374"
      },
      "execution_count": null,
      "outputs": [
        {
          "output_type": "stream",
          "name": "stdout",
          "text": [
            "This is navya\n"
          ]
        }
      ]
    },
    {
      "cell_type": "code",
      "source": [
        "a=(\"THIS IS MY BOOK\")\n",
        "y=a.casefold()\n",
        "print(y)"
      ],
      "metadata": {
        "colab": {
          "base_uri": "https://localhost:8080/"
        },
        "id": "iOHNAxjf7ARb",
        "outputId": "892ff378-fbb6-4d1f-db68-602fbc6f6336"
      },
      "execution_count": null,
      "outputs": [
        {
          "output_type": "stream",
          "name": "stdout",
          "text": [
            "this is my book\n"
          ]
        }
      ]
    },
    {
      "cell_type": "code",
      "source": [
        "y=(\"THIS Is navYA\")\n",
        "a=y.casefold()\n",
        "print(a)"
      ],
      "metadata": {
        "colab": {
          "base_uri": "https://localhost:8080/"
        },
        "id": "xIV01Svx70Fm",
        "outputId": "df4e74f8-3809-4f30-a4c3-1a1411b3b5a2"
      },
      "execution_count": null,
      "outputs": [
        {
          "output_type": "stream",
          "name": "stdout",
          "text": [
            "this is navya\n"
          ]
        }
      ]
    },
    {
      "cell_type": "code",
      "source": [
        "h=(\"red is a colour\")\n",
        "i=h.casefold()\n",
        "print(i)"
      ],
      "metadata": {
        "colab": {
          "base_uri": "https://localhost:8080/"
        },
        "id": "MXUmC0ac8Oui",
        "outputId": "c6534f34-dba0-4517-cb25-692f8a84e360"
      },
      "execution_count": null,
      "outputs": [
        {
          "output_type": "stream",
          "name": "stdout",
          "text": [
            "red is a colour\n"
          ]
        }
      ]
    },
    {
      "cell_type": "code",
      "source": [
        "a=\"navya\"\n",
        "y=a.center(10)\n",
        "print(y)"
      ],
      "metadata": {
        "colab": {
          "base_uri": "https://localhost:8080/"
        },
        "id": "5Sr3hdVn9HEA",
        "outputId": "d0ad8055-7e23-4205-e920-9cba634009b9"
      },
      "execution_count": null,
      "outputs": [
        {
          "output_type": "stream",
          "name": "stdout",
          "text": [
            "  navya   \n"
          ]
        }
      ]
    },
    {
      "cell_type": "code",
      "source": [
        "y=\"puppy\"\n",
        "a=y.center(20)\n",
        "print(a)"
      ],
      "metadata": {
        "colab": {
          "base_uri": "https://localhost:8080/"
        },
        "id": "NljVWjgp9tib",
        "outputId": "81c0db2d-6f27-4700-aa6c-f42b3727143f"
      },
      "execution_count": null,
      "outputs": [
        {
          "output_type": "stream",
          "name": "stdout",
          "text": [
            "       puppy        \n"
          ]
        }
      ]
    },
    {
      "cell_type": "code",
      "source": [
        "i=\"Hii Everyone\"\n",
        "k=i.center(50)\n",
        "print(k)"
      ],
      "metadata": {
        "colab": {
          "base_uri": "https://localhost:8080/"
        },
        "id": "ZEVR0x5y98AL",
        "outputId": "086b40b6-8f1c-4b48-ea85-04eb4c2795f7"
      },
      "execution_count": null,
      "outputs": [
        {
          "output_type": "stream",
          "name": "stdout",
          "text": [
            "                   Hii Everyone                   \n"
          ]
        }
      ]
    },
    {
      "cell_type": "code",
      "source": [
        "\n",
        "l=\"i like navya,navya is a cute girl\"\n",
        "k=l.count(\"navya\")\n",
        "print(k)"
      ],
      "metadata": {
        "colab": {
          "base_uri": "https://localhost:8080/"
        },
        "id": "jq-KPS-3-JjH",
        "outputId": "8c145161-54c4-421a-ade2-88ff55d7f540"
      },
      "execution_count": null,
      "outputs": [
        {
          "output_type": "stream",
          "name": "stdout",
          "text": [
            "2\n"
          ]
        }
      ]
    },
    {
      "cell_type": "code",
      "source": [
        "k=\"i love flowers,mostly rose flowers\"\n",
        "i=k.count(\"flowers\")\n",
        "print(i)"
      ],
      "metadata": {
        "colab": {
          "base_uri": "https://localhost:8080/"
        },
        "id": "-nnMA0lU_mav",
        "outputId": "7189b434-6fa7-41d5-fbf9-9ef506315ef1"
      },
      "execution_count": null,
      "outputs": [
        {
          "output_type": "stream",
          "name": "stdout",
          "text": [
            "2\n"
          ]
        }
      ]
    },
    {
      "cell_type": "code",
      "source": [
        "p=\"she is puppy,puppy is my best friend\"\n",
        "o=p.count(\"best\")\n",
        "print(o)"
      ],
      "metadata": {
        "colab": {
          "base_uri": "https://localhost:8080/"
        },
        "id": "cyKqWWdlAfnR",
        "outputId": "0d1a8cbb-e3cf-488e-dce7-6d3fe396315b"
      },
      "execution_count": null,
      "outputs": [
        {
          "output_type": "stream",
          "name": "stdout",
          "text": [
            "1\n"
          ]
        }
      ]
    },
    {
      "cell_type": "code",
      "source": [
        "txt=\"this is my book.\"\n",
        "p=txt.endswith(\".\")\n",
        "print(p)"
      ],
      "metadata": {
        "colab": {
          "base_uri": "https://localhost:8080/"
        },
        "id": "AoqdRuXtBHNy",
        "outputId": "f48cce87-dfac-4dae-ec5f-c604e532829b"
      },
      "execution_count": null,
      "outputs": [
        {
          "output_type": "stream",
          "name": "stdout",
          "text": [
            "True\n"
          ]
        }
      ]
    },
    {
      "cell_type": "code",
      "source": [
        "b=\"she is my frnd\"\n",
        "g=b.endswith(\"o\")\n",
        "print(g)"
      ],
      "metadata": {
        "colab": {
          "base_uri": "https://localhost:8080/"
        },
        "id": "m1Hh3Es9BeZ2",
        "outputId": "75b773e4-bac9-4931-eea5-6f58e7df6927"
      },
      "execution_count": null,
      "outputs": [
        {
          "output_type": "stream",
          "name": "stdout",
          "text": [
            "False\n"
          ]
        }
      ]
    },
    {
      "cell_type": "code",
      "source": [
        "e=\"home work;\"\n",
        "y=e.endswith(\";\")\n",
        "print(y)"
      ],
      "metadata": {
        "colab": {
          "base_uri": "https://localhost:8080/"
        },
        "id": "gbxciS08BvkL",
        "outputId": "0dc7e201-805e-4973-e87a-48ecf679869a"
      },
      "execution_count": null,
      "outputs": [
        {
          "output_type": "stream",
          "name": "stdout",
          "text": [
            "True\n"
          ]
        }
      ]
    },
    {
      "cell_type": "code",
      "source": [
        "n=\"game is over\"\n",
        "y=n.find(\"is\")\n",
        "print(y)"
      ],
      "metadata": {
        "colab": {
          "base_uri": "https://localhost:8080/"
        },
        "id": "spH1wtGQCjoD",
        "outputId": "e81868dd-750b-45e6-ce05-5e48b89f9b43"
      },
      "execution_count": null,
      "outputs": [
        {
          "output_type": "stream",
          "name": "stdout",
          "text": [
            "5\n"
          ]
        }
      ]
    },
    {
      "cell_type": "code",
      "source": [
        "n=\"sandhya is my bestie\"\n",
        "y=n.find(\"b\")\n",
        "print(y)"
      ],
      "metadata": {
        "colab": {
          "base_uri": "https://localhost:8080/"
        },
        "id": "OQSbibdiEHbB",
        "outputId": "998c096a-28d6-4f3e-f12e-174648e89bda"
      },
      "execution_count": null,
      "outputs": [
        {
          "output_type": "stream",
          "name": "stdout",
          "text": [
            "14\n"
          ]
        }
      ]
    },
    {
      "cell_type": "code",
      "source": [
        "y=\"sit here\"\n",
        "n=y.find(\"e\")\n",
        "print(n)"
      ],
      "metadata": {
        "colab": {
          "base_uri": "https://localhost:8080/"
        },
        "id": "zFn7KVaQEgvP",
        "outputId": "08cf2ff0-c8ff-47d9-eaa2-d23e8ba13d65"
      },
      "execution_count": null,
      "outputs": [
        {
          "output_type": "stream",
          "name": "stdout",
          "text": [
            "5\n"
          ]
        }
      ]
    },
    {
      "cell_type": "code",
      "source": [
        "p=(\"i am from room 323\")\n",
        "n=p.rfind(\"m\")\n",
        "print(n)"
      ],
      "metadata": {
        "id": "3SFsu44SE6xV",
        "colab": {
          "base_uri": "https://localhost:8080/"
        },
        "outputId": "85043292-6e7b-401c-da50-e4d24b6abf8f"
      },
      "execution_count": null,
      "outputs": [
        {
          "output_type": "stream",
          "name": "stdout",
          "text": [
            "13\n"
          ]
        }
      ]
    },
    {
      "cell_type": "code",
      "source": [
        "y=(\"hello santhi priya\")\n",
        "n=y.index(\"priya\")\n",
        "print(n)"
      ],
      "metadata": {
        "colab": {
          "base_uri": "https://localhost:8080/"
        },
        "id": "Ruw1lIZ6v21s",
        "outputId": "6262d77c-e3cb-468f-990c-32d35887b1e7"
      },
      "execution_count": null,
      "outputs": [
        {
          "output_type": "stream",
          "name": "stdout",
          "text": [
            "13\n"
          ]
        }
      ]
    },
    {
      "cell_type": "code",
      "source": [
        "y = \"Room323\"\n",
        "x = y.isalnum()\n",
        "print(x)\n"
      ],
      "metadata": {
        "colab": {
          "base_uri": "https://localhost:8080/"
        },
        "id": "3TkubRh4woaZ",
        "outputId": "b6796537-4f78-4fa3-ee68-55404176852c"
      },
      "execution_count": null,
      "outputs": [
        {
          "output_type": "stream",
          "name": "stdout",
          "text": [
            "True\n"
          ]
        }
      ]
    },
    {
      "cell_type": "code",
      "source": [
        "txt = \"puppy\"\n",
        "x = txt.isalpha()\n",
        "print(x)"
      ],
      "metadata": {
        "colab": {
          "base_uri": "https://localhost:8080/"
        },
        "id": "vGQf8rzqzTTF",
        "outputId": "fed399da-db81-4126-d7d6-b2c307040045"
      },
      "execution_count": null,
      "outputs": [
        {
          "output_type": "stream",
          "name": "stdout",
          "text": [
            "True\n"
          ]
        }
      ]
    },
    {
      "cell_type": "code",
      "source": [
        "txt = \"This Is Puppy And Navya\"\n",
        "x = txt.istitle()\n",
        "print(x)"
      ],
      "metadata": {
        "colab": {
          "base_uri": "https://localhost:8080/"
        },
        "id": "pSoRrKfszziQ",
        "outputId": "1a04f86f-2750-4a5a-89a9-d225b529ac90"
      },
      "execution_count": null,
      "outputs": [
        {
          "output_type": "stream",
          "name": "stdout",
          "text": [
            "True\n"
          ]
        }
      ]
    },
    {
      "cell_type": "code",
      "source": [
        "txt = \"565543\"\n",
        "x = txt.isnumeric()\n",
        "print(x)"
      ],
      "metadata": {
        "colab": {
          "base_uri": "https://localhost:8080/"
        },
        "id": "laCXsu8Q0S1l",
        "outputId": "15f85236-7f92-4c47-ff4a-34b4710a1176"
      },
      "execution_count": null,
      "outputs": [
        {
          "output_type": "stream",
          "name": "stdout",
          "text": [
            "True\n"
          ]
        }
      ]
    },
    {
      "cell_type": "code",
      "source": [
        "y= \"Hello, this is puppy.\"\n",
        "x = y.startswith(\"Hello\")\n",
        "print(x)\n"
      ],
      "metadata": {
        "colab": {
          "base_uri": "https://localhost:8080/"
        },
        "id": "pXRVHrpS1C3h",
        "outputId": "4c8b0663-3658-46d0-dc5a-18537de3af4d"
      },
      "execution_count": null,
      "outputs": [
        {
          "output_type": "stream",
          "name": "stdout",
          "text": [
            "True\n"
          ]
        }
      ]
    },
    {
      "cell_type": "code",
      "source": [
        "y = (\"navya\", \"puppy\", \"pandu\")\n",
        "x = \"^\".join(y)\n",
        "print(x)\n"
      ],
      "metadata": {
        "colab": {
          "base_uri": "https://localhost:8080/"
        },
        "id": "-mOAs04r1fvs",
        "outputId": "c0066683-f7a2-4f66-bba1-7f2770fe72f0"
      },
      "execution_count": null,
      "outputs": [
        {
          "output_type": "stream",
          "name": "stdout",
          "text": [
            "navya^puppy^pandu\n"
          ]
        }
      ]
    },
    {
      "cell_type": "code",
      "source": [
        "Y = \"THIS IS NAVYA!\"\n",
        "x = Y.isupper()\n",
        "print(x)\n"
      ],
      "metadata": {
        "colab": {
          "base_uri": "https://localhost:8080/"
        },
        "id": "cEjDgeju2LAT",
        "outputId": "a225c246-0419-4516-fea7-894ccc0bea02"
      },
      "execution_count": null,
      "outputs": [
        {
          "output_type": "stream",
          "name": "stdout",
          "text": [
            "True\n"
          ]
        }
      ]
    },
    {
      "cell_type": "code",
      "source": [
        "y= \"i love music\"\n",
        "x = y.rindex(\"music\")\n",
        "print(x)\n"
      ],
      "metadata": {
        "colab": {
          "base_uri": "https://localhost:8080/"
        },
        "id": "5gNC-UiP3JwN",
        "outputId": "22aed3c5-ac23-44ea-9a89-4c6494d07739"
      },
      "execution_count": null,
      "outputs": [
        {
          "output_type": "stream",
          "name": "stdout",
          "text": [
            "7\n"
          ]
        }
      ]
    },
    {
      "cell_type": "code",
      "source": [
        "y= \"navya geethika\"\n",
        "x = y.islower()\n",
        "print(x)\n"
      ],
      "metadata": {
        "colab": {
          "base_uri": "https://localhost:8080/"
        },
        "id": "YqwyIrJr3zUy",
        "outputId": "01a79024-493b-4a60-d19e-29a567f54199"
      },
      "execution_count": null,
      "outputs": [
        {
          "output_type": "stream",
          "name": "stdout",
          "text": [
            "True\n"
          ]
        }
      ]
    },
    {
      "cell_type": "code",
      "source": [
        "y = \"     banana     \"\n",
        "x = y.lstrip()\n",
        "print(\"of all fruits\", x, \"is my favorite\")\n"
      ],
      "metadata": {
        "colab": {
          "base_uri": "https://localhost:8080/"
        },
        "id": "2lDEenG96ib5",
        "outputId": "308a3f01-00e1-43b2-e225-0ee51dbfc96d"
      },
      "execution_count": null,
      "outputs": [
        {
          "output_type": "stream",
          "name": "stdout",
          "text": [
            "of all fruits banana      is my favorite\n"
          ]
        }
      ]
    },
    {
      "cell_type": "code",
      "source": [
        "txt = \"Hello My Name Is navya\"\n",
        "x = txt.swapcase()\n",
        "print(x)"
      ],
      "metadata": {
        "colab": {
          "base_uri": "https://localhost:8080/"
        },
        "id": "-kChP4JW68JC",
        "outputId": "6d08eae9-02b8-4846-cd2d-51562af19db6"
      },
      "execution_count": null,
      "outputs": [
        {
          "output_type": "stream",
          "name": "stdout",
          "text": [
            "hELLO mY nAME iS NAVYA\n"
          ]
        }
      ]
    },
    {
      "cell_type": "code",
      "source": [
        "txt = \"Hello my friends\"\n",
        "x = txt.upper()\n",
        "print(x)"
      ],
      "metadata": {
        "colab": {
          "base_uri": "https://localhost:8080/"
        },
        "id": "qbUtEtqB7ZxE",
        "outputId": "392df61a-34c6-4658-86dd-0d6a1fd98d48"
      },
      "execution_count": null,
      "outputs": [
        {
          "output_type": "stream",
          "name": "stdout",
          "text": [
            "HELLO MY FRIENDS\n"
          ]
        }
      ]
    },
    {
      "cell_type": "code",
      "source": [
        "txt = \"Welcome to my Room\"\n",
        "x = txt.title()\n",
        "print(x)\n"
      ],
      "metadata": {
        "colab": {
          "base_uri": "https://localhost:8080/"
        },
        "id": "OoRfWDLH7mR0",
        "outputId": "af41e705-9609-4338-87db-ced1c5f623e2"
      },
      "execution_count": null,
      "outputs": [
        {
          "output_type": "stream",
          "name": "stdout",
          "text": [
            "Welcome To My Room\n"
          ]
        }
      ]
    },
    {
      "cell_type": "code",
      "source": [
        "a=5\n",
        "b=6\n",
        "c=7\n",
        "if a>b and a>c:\n",
        "   print(a)\n",
        "elif b>c and b>a:\n",
        "     print(b)\n",
        "else:\n",
        "     print(c)"
      ],
      "metadata": {
        "id": "oeSSgQ0z7yXy",
        "colab": {
          "base_uri": "https://localhost:8080/"
        },
        "outputId": "88071280-e6b3-49b8-8fc6-f310c485830d"
      },
      "execution_count": 34,
      "outputs": [
        {
          "output_type": "stream",
          "name": "stdout",
          "text": [
            "7\n"
          ]
        }
      ]
    }
  ]
}